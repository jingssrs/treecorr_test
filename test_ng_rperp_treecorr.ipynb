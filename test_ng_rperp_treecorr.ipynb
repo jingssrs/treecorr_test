{
 "cells": [
  {
   "cell_type": "code",
   "execution_count": 37,
   "metadata": {},
   "outputs": [],
   "source": [
    "import numpy as np\n",
    "import time\n",
    "import matplotlib.pyplot as plt\n",
    "import treecorr\n",
    "\n",
    "import coord\n",
    "from astropy import units as u\n",
    "from astropy.coordinates import SkyCoord\n",
    "\n",
    "def get_dist_periodic(dist, boxsize):\n",
    "    mask1 = dist < -boxsize/2.\n",
    "    if(len(dist[mask1]) > 0):\n",
    "        dist[mask1] = dist[mask1] + boxsize\n",
    "    mask2 = dist > boxsize/2.\n",
    "    if(len(dist[mask2]) > 0):\n",
    "        dist[mask2] = dist[mask2] - boxsize\n",
    "    return dist\n",
    "\n",
    "#bin setting\n",
    "nbins_pi = 20\n",
    "min_pi = -100.\n",
    "max_pi = 100. \n",
    "pi_bins = np.linspace(min_pi, max_pi, nbins_pi+1, endpoint=True)\n",
    "delta_pi = pi_bins[1] - pi_bins[0]\n",
    "\n",
    "nbins_rp = 20\n",
    "min_rp = 1.\n",
    "max_rp = 100\n",
    "log_min_rp = np.log10(min_rp)\n",
    "log_max_rp = np.log10(max_rp)\n",
    "dlog_rp = (log_max_rp - log_min_rp) / nbins_rp\n",
    "rp_bins = np.logspace(log_min_rp, log_max_rp, nbins_rp)\n",
    "\n",
    "#read the data\n",
    "boxsize = 1000. #mpc/h\n",
    "zconst = boxsize*10000.\n",
    "\n",
    "x, y, z, g12, g22 = np.loadtxt('test_data.txt', unpack=True)\n",
    "z = z+zconst\n",
    "\n",
    "#number of data\n",
    "nd = len(x)\n",
    "\n",
    "#\n",
    "x1 = x\n",
    "x2 = x\n",
    "y1 = y \n",
    "y2 = y\n",
    "z1 = z\n",
    "z2 = z\n",
    "w1 = np.ones(nd)\n",
    "w2 = np.ones(nd)"
   ]
  },
  {
   "cell_type": "code",
   "execution_count": 38,
   "metadata": {},
   "outputs": [
    {
     "name": "stdout",
     "output_type": "stream",
     "text": [
      "0.008771 seconds passed.\n"
     ]
    },
    {
     "name": "stderr",
     "output_type": "stream",
     "text": [
      "/Users/jing/anaconda2/lib/python2.7/site-packages/ipykernel_launcher.py:23: RuntimeWarning: invalid value encountered in divide\n"
     ]
    }
   ],
   "source": [
    "#true pairs and gammaT calculation\n",
    "true_npairs = np.zeros((nbins_rp, nbins_pi), dtype=int)\n",
    "true_xi = np.zeros((nbins_rp, nbins_pi), dtype=complex)\n",
    "\n",
    "t0 = time.time()\n",
    "for i in range(nd):\n",
    "    xdist = get_dist_periodic(x2[i]-x1, boxsize)\n",
    "    ydist = get_dist_periodic(y2[i]-y1, boxsize)\n",
    "    zdist = get_dist_periodic(z2[i]-z1, boxsize)\n",
    "    rperp = np.sqrt(xdist**2. + ydist**2.)\n",
    "    \n",
    "    mask = (rperp>min_rp) & (rperp<max_rp) & (zdist>min_pi) & (zdist<max_pi)\n",
    "    \n",
    "    expmialpha = (xdist[mask] - 1j*ydist[mask]) / rperp[mask]\n",
    "    xi = -1 * (g12[i] + 1j*g22[i]) * expmialpha**2\n",
    "\n",
    "    rp_ind = np.floor(np.log10(rperp[mask]/ min_rp) / dlog_rp).astype(int)\n",
    "    pi_ind = np.floor((zdist[mask] - min_pi)/ delta_pi).astype(int)\n",
    "    \n",
    "    np.add.at(true_npairs, (rp_ind, pi_ind), 1)\n",
    "    np.add.at(true_xi, (rp_ind, pi_ind), xi)\n",
    "\n",
    "xi_rppi = true_xi/1./true_npairs\n",
    "t1 = time.time()\n",
    "print(\"%f seconds passed.\"% (t1-t0))"
   ]
  },
  {
   "cell_type": "code",
   "execution_count": 41,
   "metadata": {},
   "outputs": [
    {
     "name": "stdout",
     "output_type": "stream",
     "text": [
      "('true_npairs = ', array([0, 0, 0, 0, 0, 0, 0, 0, 0, 0, 0, 0, 0, 0, 0, 0, 0, 0, 0, 4]))\n",
      "('ng.pairs = ', array([ 0.,  0.,  0.,  0.,  0.,  0.,  0.,  0.,  0.,  0.,  0.,  0.,  0.,\n",
      "        0.,  0.,  0.,  0.,  0.,  0.,  4.]))\n",
      "('true_xi = ', array([ 0.00000000+0.j        ,  0.00000000+0.j        ,\n",
      "        0.00000000+0.j        ,  0.00000000+0.j        ,\n",
      "        0.00000000+0.j        ,  0.00000000+0.j        ,\n",
      "        0.00000000+0.j        ,  0.00000000+0.j        ,\n",
      "        0.00000000+0.j        ,  0.00000000+0.j        ,\n",
      "        0.00000000+0.j        ,  0.00000000+0.j        ,\n",
      "        0.00000000+0.j        ,  0.00000000+0.j        ,\n",
      "        0.00000000+0.j        ,  0.00000000+0.j        ,\n",
      "        0.00000000+0.j        ,  0.00000000+0.j        ,\n",
      "        0.00000000+0.j        , -0.69700562-0.39441163j]))\n",
      "('ng.xi = ', array([ 0.        ,  0.        ,  0.        ,  0.        ,  0.        ,\n",
      "        0.        ,  0.        ,  0.        ,  0.        ,  0.        ,\n",
      "        0.        ,  0.        ,  0.        ,  0.        ,  0.        ,\n",
      "        0.        ,  0.        ,  0.        ,  0.        ,  0.03465574]))\n",
      "('ng.xi_im = ', array([ 0.        ,  0.        ,  0.        ,  0.        ,  0.        ,\n",
      "        0.        ,  0.        ,  0.        ,  0.        ,  0.        ,\n",
      "        0.        ,  0.        ,  0.        ,  0.        ,  0.        ,\n",
      "        0.        ,  0.        ,  0.        ,  0.        , -0.12234481]))\n"
     ]
    }
   ],
   "source": [
    "#count pairs and gammaT with treecorr\n",
    "cat1 = treecorr.Catalog(x=x1, y=y1, z=z1)\n",
    "cat2 = treecorr.Catalog(x=x2, y=y2, z=z2, g1=g12, g2=g22)\n",
    "\n",
    "#treecorr for only the first pi_bin\n",
    "ng = treecorr.NGCorrelation(min_sep=min_rp, max_sep=max_rp, nbins=nbins_rp, min_rpar=pi_bins[0], max_rpar=pi_bins[1], metric='Rperp')\n",
    "ng.process(cat1, cat2)\n",
    "\n",
    "print('true_npairs = ',true_npairs[:, 0])\n",
    "print('ng.pairs = ',ng.npairs)\n",
    "\n",
    "print('true_xi = ',true_xi[:, 0])\n",
    "print('ng.xi = ',ng.xi)\n",
    "print('ng.xi_im = ',ng.xi_im)"
   ]
  },
  {
   "cell_type": "code",
   "execution_count": null,
   "metadata": {
    "collapsed": true
   },
   "outputs": [],
   "source": [
    "'''\n",
    "#testing\n",
    "ra1, dec1, dcom1 = coord.CelestialCoord.xyz_to_radec(x1, y1, z1, return_r=True)\n",
    "ra2, dec2, dcom2 = coord.CelestialCoord.xyz_to_radec(x2, y2, z2, return_r=True)\n",
    "\n",
    "north_pole = coord.CelestialCoord(0*coord.radians, 90*coord.degrees)\n",
    "\n",
    "c1 = [coord.CelestialCoord(r*coord.radians, d*coord.radians) for (r,d) in zip(ra1, dec1)]\n",
    "c2 = [coord.CelestialCoord(r*coord.radians, d*coord.radians) for (r,d) in zip(ra2, dec2)]\n",
    "\n",
    "true_npairs_spheric = np.zeros(nbins_rp, dtype=int)\n",
    "true_weight_spheric = np.zeros(nbins_rp, dtype=float)\n",
    "true_xi_spheric = np.zeros(nbins_rp, dtype=complex)\n",
    "for i in range(nd):\n",
    "    for j in range(nd):\n",
    "        rsq = (x1[i]-x2[j])**2 + (y1[i]-y2[j])**2 + (z1[i]-z2[j])**2\n",
    "        Lsq = ((x1[i]+x2[j])**2 + (y1[i]+y2[j])**2 + (z1[i]+z2[j])**2) / 4.\n",
    "        rpar = -(dcom1[i]**2-dcom2[j]**2) / (2.*np.sqrt(Lsq))\n",
    "        rsq -= rpar**2\n",
    "        if(rpar<pi_bins[0]): continue\n",
    "        if(rpar>pi_bins[1]): continue\n",
    "        logr = 0.5 * np.log(rsq)\n",
    "        k = int(np.floor((logr-log_min_rp) / dlog_rp))\n",
    "        if k < 0: continue\n",
    "        if k >= nbins_rp: continue\n",
    "\n",
    "        theta2 = 90*coord.degrees - c2[j].angleBetween(c1[i], north_pole)\n",
    "        expm2theta2 = np.cos(2*theta2) - 1j * np.sin(2*theta2)\n",
    "        print(c1, c2)\n",
    "        print(theta2)\n",
    "\n",
    "        g2 = g12[j] + 1j * g22[j]\n",
    "        g2 *= expm2theta2\n",
    "\n",
    "        ww = w1[i] * w2[j]\n",
    "        xi = -w1[i] * w2[j] * g2\n",
    "                \n",
    "        true_npairs_spheric[k] += 1\n",
    "        true_weight_spheric[k] += ww\n",
    "        true_xi_spheric[k] += xi\n",
    "\n",
    "mask = true_weight_spheric>0.\n",
    "true_xi_spheric[mask]/= true_weight_spheric[mask]\n",
    "'''"
   ]
  }
 ],
 "metadata": {
  "kernelspec": {
   "display_name": "Python 2",
   "language": "python",
   "name": "python2"
  },
  "language_info": {
   "codemirror_mode": {
    "name": "ipython",
    "version": 2
   },
   "file_extension": ".py",
   "mimetype": "text/x-python",
   "name": "python",
   "nbconvert_exporter": "python",
   "pygments_lexer": "ipython2",
   "version": "2.7.14"
  }
 },
 "nbformat": 4,
 "nbformat_minor": 2
}
